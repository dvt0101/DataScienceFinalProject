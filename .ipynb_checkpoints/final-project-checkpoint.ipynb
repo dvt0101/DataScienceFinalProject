{
 "cells": [
  {
   "cell_type": "markdown",
   "metadata": {},
   "source": [
    "# 1612615-Đào Việt Thắng\n",
    "\n",
    "# 1612485-Nguyễn Anh Pha"
   ]
  },
  {
   "cell_type": "markdown",
   "metadata": {},
   "source": [
    "## Bài toán: Đề xuất giá vé cho nhà tổ chức sự kiện dựa trên thông tin liên quan."
   ]
  },
  {
   "cell_type": "markdown",
   "metadata": {},
   "source": [
    "## Đào Việt Thắng - 1612615\n",
    "## Nguyễn Anh Pha - 1612485"
   ]
  },
  {
   "cell_type": "markdown",
   "metadata": {},
   "source": [
    "### Bài toán: Dự đoán giá vé sự kiện dành cho các nhà tổ chức sự kiện\n",
    "#### Dựa vào mô hình nhóm đề xuất các nhà tổ chức sự kiện có thể ước lượng được giá vé ở các địa điểm tổ chức sự kiện. Bài toán lấy ý tưởng từ việc một nhà tổ chức sự kiện muốn tổ chức một sự kiện ở trong khu vực, thời gian nào nào đó thì muốn biết ước lượng giá vé theo yêu cầu đó là bao nhiêu."
   ]
  },
  {
   "cell_type": "markdown",
   "metadata": {},
   "source": [
    "### Thu thập dữ liệu:\n",
    "Dữ liệu được lấy từ trang web: https://ticketbox.vn. Trang web không có file robots.txt\n",
    "Dữ liệu bao gồm:\n",
    "\n",
    "    116 dòng và 8 cột ['tên sự kiện', 'giá', 'địa điểm', 'loại sự kiện', 'tháng', 'ngày', 'thời gian', 'địa điểm cụ thể']\n",
    "\n",
    "Nhóm đề xuất dựa vào các thông tin: ['địa điểm', 'loại sự kiện', 'tháng', 'ngày', 'thời gian'] để dự đoán giá vé.\n",
    "\n",
    "Vấn đề gặp phải: dữ liệu thu được còn khá ít."
   ]
  },
  {
   "cell_type": "code",
   "execution_count": 126,
   "metadata": {},
   "outputs": [],
   "source": [
    "from requests_html import HTMLSession\n",
    "import requests\n",
    "import json\n",
    "import time\n",
    "import pandas as pd\n",
    "import datetime as dt\n",
    "import re\n",
    "\n",
    "from sklearn.model_selection import train_test_split\n",
    "from sklearn.preprocessing import OneHotEncoder, StandardScaler\n",
    "from sklearn.impute import SimpleImputer\n",
    "from sklearn.base import BaseEstimator, TransformerMixin\n",
    "from sklearn.pipeline import Pipeline, make_pipeline\n",
    "from sklearn.compose import ColumnTransformer, make_column_transformer\n",
    "from sklearn.linear_model import LinearRegression\n",
    "from sklearn import linear_model\n",
    "# from bs4 import BeautifulSoup\n",
    "# from dateutil.parser import parse\n",
    "# from selenium import webdriver\n",
    "# from selenium.webdriver.support.ui import WebDriverWait\n",
    "# from selenium.webdriver.support import expected_conditions as EC\n",
    "# from selenium.webdriver.common.by import By\n",
    "# from selenium.common.exceptions import TimeoutException, JavascriptException\n",
    "# from selenium.webdriver.common.action_chains import ActionChains"
   ]
  },
  {
   "cell_type": "markdown",
   "metadata": {},
   "source": [
    "# Import"
   ]
  },
  {
   "cell_type": "code",
   "execution_count": 7,
   "metadata": {},
   "outputs": [],
   "source": [
    "def crawl(nr_of_events=100, links=[\"https://ticketbox.vn/events/ho-chi-minh\", \"https://ticketbox.vn/events/ha-noi\"]):\n",
    "    data = []\n",
    "    for l in links:\n",
    "        driver = webdriver.Chrome(\"./ChromeSetup\")\n",
    "        driver.get(l)\n",
    "        while True:\n",
    "            try:\n",
    "                soup = BeautifulSoup(driver.page_source, \"html\")\n",
    "                cards = soup.findAll(\"div\", {\"class\": \"card\"})\n",
    "                if len(cards) >= nr_of_events:\n",
    "                    driver.close()\n",
    "                    break\n",
    "                button = driver.find_element_by_class_name(\"btn-loadmore\")\n",
    "                WebDriverWait(driver, 3).until(EC.invisibility_of_element_located((By.CLASS_NAME, \"loading-screen\")))\n",
    "                ActionChains(driver).move_to_element(button).click(button).perform()\n",
    "            except JavascriptException:\n",
    "                driver.close()\n",
    "                break\n",
    "        for card in cards:\n",
    "            title = card.findAll(\"div\", {\"class\": \"event-title\"})\n",
    "            title = title[0].text.strip() if title else ''\n",
    "            if title == '':\n",
    "                continue\n",
    "            link = card.findAll(\"a\", href=True)\n",
    "            if link:\n",
    "                r = HTMLSession().get(link[0]['href'])\n",
    "                tmp = BeautifulSoup(r.html.raw_html, \"html\")\n",
    "                try:\n",
    "                    time = tmp.findAll(\"div\", {\"class\": \"s1\"})[0].findAll(\"div\", {\"class\": \"ev-txt\"})\n",
    "                    time = time[0].text.strip() if time else ''\n",
    "                except:\n",
    "                    time = ''\n",
    "                try:\n",
    "                    location = tmp.findAll(\"div\", {\"class\": \"s2\"})[0].findAll(\"div\", {\"class\": \"ev-txt\"})\n",
    "                    location = location[0].text.strip() if location else ''\n",
    "                except:\n",
    "                    location = ''\n",
    "            else:\n",
    "                time = ''\n",
    "                location = ''\n",
    "            price = card.findAll(\"div\", {\"class\": \"event-price\"})\n",
    "            price = price[0].text.strip() if price else ''\n",
    "            venue = card.findAll(\"span\", {\"class\": \"tag-venue\"})\n",
    "            venue = venue[0].text.strip() if venue else ''\n",
    "            category = card.findAll(\"a\", {\"class\": \"tag-kind\"})\n",
    "            category = category[0].text.strip() if category else ''\n",
    "            month = card.findAll(\"span\", {\"class\": \"date-month\"}) if card.findAll(\"span\", {\"class\": \"date-month\"}) else card.findAll(\"div\", {\"class\": \"date-month\"})\n",
    "            month = month[0].text.strip() if month else ''\n",
    "            day = card.findAll(\"div\", {\"class\": \"date-detail\"})\n",
    "            day = ' '.join([i.text.replace('\\r', '').replace('\\n', '').replace('  ', ' ').strip() for i in day]) if day else ''\n",
    "\n",
    "            data.append([title, price, venue, category, month, day, time, location])\n",
    "    return pd.DataFrame(data, columns=[\"title\", \"price\", \"venue\", \"category\", \"month\", \"day\", \"time\", \"location\"])"
   ]
  },
  {
   "cell_type": "code",
   "execution_count": 9,
   "metadata": {},
   "outputs": [
    {
     "ename": "WebDriverException",
     "evalue": "Message: Service ./ChromeSetup unexpectedly exited. Status code was: 2147748865\n",
     "output_type": "error",
     "traceback": [
      "\u001b[1;31m---------------------------------------------------------------------------\u001b[0m",
      "\u001b[1;31mWebDriverException\u001b[0m                        Traceback (most recent call last)",
      "\u001b[1;32m<ipython-input-9-b86de3776757>\u001b[0m in \u001b[0;36m<module>\u001b[1;34m\u001b[0m\n\u001b[1;32m----> 1\u001b[1;33m \u001b[0mdf\u001b[0m \u001b[1;33m=\u001b[0m \u001b[0mcrawl\u001b[0m\u001b[1;33m(\u001b[0m\u001b[1;33m)\u001b[0m\u001b[1;33m\u001b[0m\u001b[1;33m\u001b[0m\u001b[0m\n\u001b[0m\u001b[0;32m      2\u001b[0m \u001b[0mdf\u001b[0m\u001b[1;33m.\u001b[0m\u001b[0mto_csv\u001b[0m\u001b[1;33m(\u001b[0m\u001b[1;34m\"raw-{}.csv\"\u001b[0m\u001b[1;33m.\u001b[0m\u001b[0mformat\u001b[0m\u001b[1;33m(\u001b[0m\u001b[0mstr\u001b[0m\u001b[1;33m(\u001b[0m\u001b[0mtime\u001b[0m\u001b[1;33m.\u001b[0m\u001b[0mtime\u001b[0m\u001b[1;33m(\u001b[0m\u001b[1;33m)\u001b[0m\u001b[1;33m)\u001b[0m\u001b[1;33m)\u001b[0m\u001b[1;33m)\u001b[0m\u001b[1;33m\u001b[0m\u001b[1;33m\u001b[0m\u001b[0m\n\u001b[0;32m      3\u001b[0m \u001b[0mdf\u001b[0m\u001b[1;33m.\u001b[0m\u001b[0mhead\u001b[0m\u001b[1;33m(\u001b[0m\u001b[1;33m)\u001b[0m\u001b[1;33m\u001b[0m\u001b[1;33m\u001b[0m\u001b[0m\n",
      "\u001b[1;32m<ipython-input-7-19876370c75e>\u001b[0m in \u001b[0;36mcrawl\u001b[1;34m(nr_of_events, links)\u001b[0m\n\u001b[0;32m      2\u001b[0m     \u001b[0mdata\u001b[0m \u001b[1;33m=\u001b[0m \u001b[1;33m[\u001b[0m\u001b[1;33m]\u001b[0m\u001b[1;33m\u001b[0m\u001b[1;33m\u001b[0m\u001b[0m\n\u001b[0;32m      3\u001b[0m     \u001b[1;32mfor\u001b[0m \u001b[0ml\u001b[0m \u001b[1;32min\u001b[0m \u001b[0mlinks\u001b[0m\u001b[1;33m:\u001b[0m\u001b[1;33m\u001b[0m\u001b[1;33m\u001b[0m\u001b[0m\n\u001b[1;32m----> 4\u001b[1;33m         \u001b[0mdriver\u001b[0m \u001b[1;33m=\u001b[0m \u001b[0mwebdriver\u001b[0m\u001b[1;33m.\u001b[0m\u001b[0mChrome\u001b[0m\u001b[1;33m(\u001b[0m\u001b[1;34m\"./ChromeSetup\"\u001b[0m\u001b[1;33m)\u001b[0m\u001b[1;33m\u001b[0m\u001b[1;33m\u001b[0m\u001b[0m\n\u001b[0m\u001b[0;32m      5\u001b[0m         \u001b[0mdriver\u001b[0m\u001b[1;33m.\u001b[0m\u001b[0mget\u001b[0m\u001b[1;33m(\u001b[0m\u001b[0ml\u001b[0m\u001b[1;33m)\u001b[0m\u001b[1;33m\u001b[0m\u001b[1;33m\u001b[0m\u001b[0m\n\u001b[0;32m      6\u001b[0m         \u001b[1;32mwhile\u001b[0m \u001b[1;32mTrue\u001b[0m\u001b[1;33m:\u001b[0m\u001b[1;33m\u001b[0m\u001b[1;33m\u001b[0m\u001b[0m\n",
      "\u001b[1;32mc:\\users\\dell\\miniconda3\\lib\\site-packages\\selenium\\webdriver\\chrome\\webdriver.py\u001b[0m in \u001b[0;36m__init__\u001b[1;34m(self, executable_path, port, options, service_args, desired_capabilities, service_log_path, chrome_options, keep_alive)\u001b[0m\n\u001b[0;32m     71\u001b[0m             \u001b[0mservice_args\u001b[0m\u001b[1;33m=\u001b[0m\u001b[0mservice_args\u001b[0m\u001b[1;33m,\u001b[0m\u001b[1;33m\u001b[0m\u001b[1;33m\u001b[0m\u001b[0m\n\u001b[0;32m     72\u001b[0m             log_path=service_log_path)\n\u001b[1;32m---> 73\u001b[1;33m         \u001b[0mself\u001b[0m\u001b[1;33m.\u001b[0m\u001b[0mservice\u001b[0m\u001b[1;33m.\u001b[0m\u001b[0mstart\u001b[0m\u001b[1;33m(\u001b[0m\u001b[1;33m)\u001b[0m\u001b[1;33m\u001b[0m\u001b[1;33m\u001b[0m\u001b[0m\n\u001b[0m\u001b[0;32m     74\u001b[0m \u001b[1;33m\u001b[0m\u001b[0m\n\u001b[0;32m     75\u001b[0m         \u001b[1;32mtry\u001b[0m\u001b[1;33m:\u001b[0m\u001b[1;33m\u001b[0m\u001b[1;33m\u001b[0m\u001b[0m\n",
      "\u001b[1;32mc:\\users\\dell\\miniconda3\\lib\\site-packages\\selenium\\webdriver\\common\\service.py\u001b[0m in \u001b[0;36mstart\u001b[1;34m(self)\u001b[0m\n\u001b[0;32m     96\u001b[0m         \u001b[0mcount\u001b[0m \u001b[1;33m=\u001b[0m \u001b[1;36m0\u001b[0m\u001b[1;33m\u001b[0m\u001b[1;33m\u001b[0m\u001b[0m\n\u001b[0;32m     97\u001b[0m         \u001b[1;32mwhile\u001b[0m \u001b[1;32mTrue\u001b[0m\u001b[1;33m:\u001b[0m\u001b[1;33m\u001b[0m\u001b[1;33m\u001b[0m\u001b[0m\n\u001b[1;32m---> 98\u001b[1;33m             \u001b[0mself\u001b[0m\u001b[1;33m.\u001b[0m\u001b[0massert_process_still_running\u001b[0m\u001b[1;33m(\u001b[0m\u001b[1;33m)\u001b[0m\u001b[1;33m\u001b[0m\u001b[1;33m\u001b[0m\u001b[0m\n\u001b[0m\u001b[0;32m     99\u001b[0m             \u001b[1;32mif\u001b[0m \u001b[0mself\u001b[0m\u001b[1;33m.\u001b[0m\u001b[0mis_connectable\u001b[0m\u001b[1;33m(\u001b[0m\u001b[1;33m)\u001b[0m\u001b[1;33m:\u001b[0m\u001b[1;33m\u001b[0m\u001b[1;33m\u001b[0m\u001b[0m\n\u001b[0;32m    100\u001b[0m                 \u001b[1;32mbreak\u001b[0m\u001b[1;33m\u001b[0m\u001b[1;33m\u001b[0m\u001b[0m\n",
      "\u001b[1;32mc:\\users\\dell\\miniconda3\\lib\\site-packages\\selenium\\webdriver\\common\\service.py\u001b[0m in \u001b[0;36massert_process_still_running\u001b[1;34m(self)\u001b[0m\n\u001b[0;32m    109\u001b[0m             raise WebDriverException(\n\u001b[0;32m    110\u001b[0m                 \u001b[1;34m'Service %s unexpectedly exited. Status code was: %s'\u001b[0m\u001b[1;33m\u001b[0m\u001b[1;33m\u001b[0m\u001b[0m\n\u001b[1;32m--> 111\u001b[1;33m                 \u001b[1;33m%\u001b[0m \u001b[1;33m(\u001b[0m\u001b[0mself\u001b[0m\u001b[1;33m.\u001b[0m\u001b[0mpath\u001b[0m\u001b[1;33m,\u001b[0m \u001b[0mreturn_code\u001b[0m\u001b[1;33m)\u001b[0m\u001b[1;33m\u001b[0m\u001b[1;33m\u001b[0m\u001b[0m\n\u001b[0m\u001b[0;32m    112\u001b[0m             )\n\u001b[0;32m    113\u001b[0m \u001b[1;33m\u001b[0m\u001b[0m\n",
      "\u001b[1;31mWebDriverException\u001b[0m: Message: Service ./ChromeSetup unexpectedly exited. Status code was: 2147748865\n"
     ]
    }
   ],
   "source": [
    "df = crawl()\n",
    "df.to_csv(\"raw-{}.csv\".format(str(time.time())))\n",
    "df.head()"
   ]
  },
  {
   "cell_type": "code",
   "execution_count": 239,
   "metadata": {},
   "outputs": [],
   "source": [
    "df1 = pd.read_csv(\"raw-1573728872.5245068.csv\", index_col=0)\n",
    "df2 = pd.read_csv(\"raw-1578122332.9700286.csv\", index_col=0)\n",
    "df = pd.concat([df1, df2])\n"
   ]
  },
  {
   "cell_type": "markdown",
   "metadata": {},
   "source": [
    "# Norm data"
   ]
  },
  {
   "cell_type": "code",
   "execution_count": 240,
   "metadata": {
    "scrolled": false
   },
   "outputs": [
    {
     "data": {
      "text/html": [
       "<div>\n",
       "<style scoped>\n",
       "    .dataframe tbody tr th:only-of-type {\n",
       "        vertical-align: middle;\n",
       "    }\n",
       "\n",
       "    .dataframe tbody tr th {\n",
       "        vertical-align: top;\n",
       "    }\n",
       "\n",
       "    .dataframe thead th {\n",
       "        text-align: right;\n",
       "    }\n",
       "</style>\n",
       "<table border=\"1\" class=\"dataframe\">\n",
       "  <thead>\n",
       "    <tr style=\"text-align: right;\">\n",
       "      <th></th>\n",
       "      <th>title</th>\n",
       "      <th>price</th>\n",
       "      <th>venue</th>\n",
       "      <th>category</th>\n",
       "      <th>month</th>\n",
       "      <th>day</th>\n",
       "      <th>time</th>\n",
       "      <th>location</th>\n",
       "    </tr>\n",
       "  </thead>\n",
       "  <tbody>\n",
       "    <tr>\n",
       "      <th>0</th>\n",
       "      <td>A O Show</td>\n",
       "      <td>700000</td>\n",
       "      <td>Ho Chi Minh</td>\n",
       "      <td>Văn hóa nghệ thuật</td>\n",
       "      <td>11</td>\n",
       "      <td>NaN</td>\n",
       "      <td>NaN</td>\n",
       "      <td>NaN</td>\n",
       "    </tr>\n",
       "    <tr>\n",
       "      <th>1</th>\n",
       "      <td>Vietnam Youth Basketball League</td>\n",
       "      <td>0</td>\n",
       "      <td>Ho Chi Minh</td>\n",
       "      <td>Khóa học</td>\n",
       "      <td>nan</td>\n",
       "      <td>NaN</td>\n",
       "      <td>Thứ 7, 26 Tháng 1 2019 - Thứ 7, 28 Tháng 12 20...</td>\n",
       "      <td>ISHCMC School\\r\\n28 Vo Truong Toan St., An Phu...</td>\n",
       "    </tr>\n",
       "    <tr>\n",
       "      <th>2</th>\n",
       "      <td>Khóa Học Phong Cách Sống - Happy Mind. Happy L...</td>\n",
       "      <td>2200</td>\n",
       "      <td>Ho Chi Minh</td>\n",
       "      <td>Hội thảo</td>\n",
       "      <td>12</td>\n",
       "      <td>01                                      Chủ nhật</td>\n",
       "      <td>Chủ nhật, 01 Tháng 12 2019 - Thứ 3, 31 Tháng 1...</td>\n",
       "      <td>Yoga Plus\\r\\nLầu 3 Thảo Điền Pearl - 12 Quốc H...</td>\n",
       "    </tr>\n",
       "    <tr>\n",
       "      <th>3</th>\n",
       "      <td>KHÓA HỌC KINH DOANH HORECA (Monthly Opening)</td>\n",
       "      <td>2200</td>\n",
       "      <td>Ho Chi Minh</td>\n",
       "      <td>Khóa học</td>\n",
       "      <td>12</td>\n",
       "      <td>02                                      Thứ 2</td>\n",
       "      <td>Thứ 2, 02 Tháng 12 2019 - Thứ 3, 03 Tháng 12 2...</td>\n",
       "      <td>VINHOMES GOLDEN RIVER - THE LUXURY 6 (LUX 6)\\r...</td>\n",
       "    </tr>\n",
       "    <tr>\n",
       "      <th>4</th>\n",
       "      <td>KHÓA HỌC TIẾP THỊ: CHIẾN LƯỢC TRUYỀN THÔNG (Mo...</td>\n",
       "      <td>2200</td>\n",
       "      <td>Ho Chi Minh</td>\n",
       "      <td>Hội thảo</td>\n",
       "      <td>12</td>\n",
       "      <td>NaN</td>\n",
       "      <td>Thứ 2, 09 Tháng 12 2019 - Thứ 3, 10 Tháng 12 2...</td>\n",
       "      <td>VINHOMES GOLDEN RIVER - THE LUXURY 6 ( LUX6 )\\...</td>\n",
       "    </tr>\n",
       "    <tr>\n",
       "      <th>...</th>\n",
       "      <td>...</td>\n",
       "      <td>...</td>\n",
       "      <td>...</td>\n",
       "      <td>...</td>\n",
       "      <td>...</td>\n",
       "      <td>...</td>\n",
       "      <td>...</td>\n",
       "      <td>...</td>\n",
       "    </tr>\n",
       "    <tr>\n",
       "      <th>41</th>\n",
       "      <td>Pop - rock : The Rodeo</td>\n",
       "      <td>100000</td>\n",
       "      <td>Ha Noi</td>\n",
       "      <td>Nhạc sống</td>\n",
       "      <td>2</td>\n",
       "      <td>21                                      Thứ 6</td>\n",
       "      <td>08:00 PM - 09:30 PM</td>\n",
       "      <td>Trung tâm Văn hóa Pháp - L'Espace\\n24 Tràng Ti...</td>\n",
       "    </tr>\n",
       "    <tr>\n",
       "      <th>42</th>\n",
       "      <td>Độc tấu piano : Maxime Zecchini</td>\n",
       "      <td>100000</td>\n",
       "      <td>Ha Noi</td>\n",
       "      <td>Nhạc sống</td>\n",
       "      <td>2</td>\n",
       "      <td>29                                      Thứ 7</td>\n",
       "      <td>08:00 PM - 09:30 PM</td>\n",
       "      <td>Trung tâm văn hóa Pháp - L'Espace\\n24 Tràng Ti...</td>\n",
       "    </tr>\n",
       "    <tr>\n",
       "      <th>43</th>\n",
       "      <td>KPOP SUPER CONCERT IN HANOI 2020</td>\n",
       "      <td>500000</td>\n",
       "      <td>Ha Noi</td>\n",
       "      <td>Nhạc sống</td>\n",
       "      <td>1</td>\n",
       "      <td>11                                      Thứ 7</td>\n",
       "      <td>06:00 PM - 09:00 PM</td>\n",
       "      <td>Mỹ Đình Stadium\\nĐường Lê Đức Thọ, Mỹ Đình, Qu...</td>\n",
       "    </tr>\n",
       "    <tr>\n",
       "      <th>44</th>\n",
       "      <td>SEARCH INSIDE YOURSELF - Loại bỏ cảm xúc tiêu ...</td>\n",
       "      <td>119000</td>\n",
       "      <td>Ha Noi</td>\n",
       "      <td>Hội thảo</td>\n",
       "      <td>1</td>\n",
       "      <td>01                                      Thứ 4</td>\n",
       "      <td>Thứ 4, 01 Tháng 1 2020 - Thứ 7, 01 Tháng 2 202...</td>\n",
       "      <td>Học viện Agile\\n68 Nguyễn Cơ Thạch, Quận Nam T...</td>\n",
       "    </tr>\n",
       "    <tr>\n",
       "      <th>45</th>\n",
       "      <td>Vietnam Creators Bootcamp Expo</td>\n",
       "      <td>0</td>\n",
       "      <td>Ha Noi</td>\n",
       "      <td>Cộng đồng</td>\n",
       "      <td>1</td>\n",
       "      <td>05                                      Chủ nhật</td>\n",
       "      <td>08:00 AM - 05:00 PM</td>\n",
       "      <td>Nhà thi đấu Cầu Giấy\\n35 Trần Quý Kiên, Quận C...</td>\n",
       "    </tr>\n",
       "  </tbody>\n",
       "</table>\n",
       "<p>162 rows × 8 columns</p>\n",
       "</div>"
      ],
      "text/plain": [
       "                                                title   price        venue  \\\n",
       "0                                            A O Show  700000  Ho Chi Minh   \n",
       "1                     Vietnam Youth Basketball League       0  Ho Chi Minh   \n",
       "2   Khóa Học Phong Cách Sống - Happy Mind. Happy L...    2200  Ho Chi Minh   \n",
       "3        KHÓA HỌC KINH DOANH HORECA (Monthly Opening)    2200  Ho Chi Minh   \n",
       "4   KHÓA HỌC TIẾP THỊ: CHIẾN LƯỢC TRUYỀN THÔNG (Mo...    2200  Ho Chi Minh   \n",
       "..                                                ...     ...          ...   \n",
       "41                             Pop - rock : The Rodeo  100000       Ha Noi   \n",
       "42                    Độc tấu piano : Maxime Zecchini  100000       Ha Noi   \n",
       "43                   KPOP SUPER CONCERT IN HANOI 2020  500000       Ha Noi   \n",
       "44  SEARCH INSIDE YOURSELF - Loại bỏ cảm xúc tiêu ...  119000       Ha Noi   \n",
       "45                     Vietnam Creators Bootcamp Expo       0       Ha Noi   \n",
       "\n",
       "              category month  \\\n",
       "0   Văn hóa nghệ thuật    11   \n",
       "1             Khóa học   nan   \n",
       "2             Hội thảo    12   \n",
       "3             Khóa học    12   \n",
       "4             Hội thảo    12   \n",
       "..                 ...   ...   \n",
       "41           Nhạc sống     2   \n",
       "42           Nhạc sống     2   \n",
       "43           Nhạc sống     1   \n",
       "44            Hội thảo     1   \n",
       "45           Cộng đồng     1   \n",
       "\n",
       "                                                 day  \\\n",
       "0                                                NaN   \n",
       "1                                                NaN   \n",
       "2   01                                      Chủ nhật   \n",
       "3      02                                      Thứ 2   \n",
       "4                                                NaN   \n",
       "..                                               ...   \n",
       "41     21                                      Thứ 6   \n",
       "42     29                                      Thứ 7   \n",
       "43     11                                      Thứ 7   \n",
       "44     01                                      Thứ 4   \n",
       "45  05                                      Chủ nhật   \n",
       "\n",
       "                                                 time  \\\n",
       "0                                                 NaN   \n",
       "1   Thứ 7, 26 Tháng 1 2019 - Thứ 7, 28 Tháng 12 20...   \n",
       "2   Chủ nhật, 01 Tháng 12 2019 - Thứ 3, 31 Tháng 1...   \n",
       "3   Thứ 2, 02 Tháng 12 2019 - Thứ 3, 03 Tháng 12 2...   \n",
       "4   Thứ 2, 09 Tháng 12 2019 - Thứ 3, 10 Tháng 12 2...   \n",
       "..                                                ...   \n",
       "41                                08:00 PM - 09:30 PM   \n",
       "42                                08:00 PM - 09:30 PM   \n",
       "43                                06:00 PM - 09:00 PM   \n",
       "44  Thứ 4, 01 Tháng 1 2020 - Thứ 7, 01 Tháng 2 202...   \n",
       "45                                08:00 AM - 05:00 PM   \n",
       "\n",
       "                                             location  \n",
       "0                                                 NaN  \n",
       "1   ISHCMC School\\r\\n28 Vo Truong Toan St., An Phu...  \n",
       "2   Yoga Plus\\r\\nLầu 3 Thảo Điền Pearl - 12 Quốc H...  \n",
       "3   VINHOMES GOLDEN RIVER - THE LUXURY 6 (LUX 6)\\r...  \n",
       "4   VINHOMES GOLDEN RIVER - THE LUXURY 6 ( LUX6 )\\...  \n",
       "..                                                ...  \n",
       "41  Trung tâm Văn hóa Pháp - L'Espace\\n24 Tràng Ti...  \n",
       "42  Trung tâm văn hóa Pháp - L'Espace\\n24 Tràng Ti...  \n",
       "43  Mỹ Đình Stadium\\nĐường Lê Đức Thọ, Mỹ Đình, Qu...  \n",
       "44  Học viện Agile\\n68 Nguyễn Cơ Thạch, Quận Nam T...  \n",
       "45  Nhà thi đấu Cầu Giấy\\n35 Trần Quý Kiên, Quận C...  \n",
       "\n",
       "[162 rows x 8 columns]"
      ]
     },
     "execution_count": 240,
     "metadata": {},
     "output_type": "execute_result"
    }
   ],
   "source": [
    "import numpy as np\n",
    "import re\n",
    "\n",
    "norm_df = df.copy()\n",
    "\n",
    "norm_df = norm_df.replace(\"Hà Nội\", \"Ha Noi\")\n",
    "norm_df = norm_df.replace(\"Hồ Chí Minh\", \"Ho Chi Minh\")\n",
    "\n",
    "norm_df['month'] = [re.findall(r\"(\\d+)\", str(i))[0] if re.findall(r\"(\\d+)\", str(i)) else str(i) for i in norm_df['month']]\n",
    "norm_df['price'] = [int(re.findall(r\"(\\d+.\\d+)\", str(i))[0].replace(\".\", \"\")) if re.findall(r\"(\\d+.\\d+)\", str(i)) else 0 for i in norm_df['price']]\n",
    "\n",
    "norm_df"
   ]
  },
  {
   "cell_type": "markdown",
   "metadata": {},
   "source": [
    "# Missing data Percentage"
   ]
  },
  {
   "cell_type": "code",
   "execution_count": 241,
   "metadata": {},
   "outputs": [
    {
     "data": {
      "text/plain": [
       "title       0.000000\n",
       "price       0.000000\n",
       "venue       0.000000\n",
       "category    0.000000\n",
       "month       0.000000\n",
       "day         0.148148\n",
       "time        0.067901\n",
       "location    0.067901\n",
       "dtype: float64"
      ]
     },
     "execution_count": 241,
     "metadata": {},
     "output_type": "execute_result"
    }
   ],
   "source": [
    "norm_df.isnull().sum()/norm_df.shape[0]"
   ]
  },
  {
   "cell_type": "code",
   "execution_count": 7,
   "metadata": {},
   "outputs": [
    {
     "data": {
      "text/plain": [
       "[<matplotlib.lines.Line2D at 0x27c3e072f08>]"
      ]
     },
     "execution_count": 7,
     "metadata": {},
     "output_type": "execute_result"
    },
    {
     "data": {
      "image/png": "[encoded data removed]",
      "text/plain": [
       "<Figure size 1440x216 with 1 Axes>"
      ]
     },
     "metadata": {
      "needs_background": "light"
     },
     "output_type": "display_data"
    }
   ],
   "source": [
    "from matplotlib import pyplot as plt\n",
    "plt.figure(figsize=(20,3)) \n",
    "plt.plot(norm_df.groupby(\"category\").agg({\"category\": [\"count\"]}))"
   ]
  },
  {
   "cell_type": "code",
   "execution_count": 8,
   "metadata": {},
   "outputs": [
    {
     "data": {
      "text/plain": [
       "([<matplotlib.axis.XTick at 0x27c3e0af9c8>,\n",
       "  <matplotlib.axis.XTick at 0x27c3e224088>,\n",
       "  <matplotlib.axis.XTick at 0x27c3e2467c8>,\n",
       "  <matplotlib.axis.XTick at 0x27c3e11dc08>,\n",
       "  <matplotlib.axis.XTick at 0x27c3e122408>,\n",
       "  <matplotlib.axis.XTick at 0x27c3e122c48>,\n",
       "  <matplotlib.axis.XTick at 0x27c3e127608>,\n",
       "  <matplotlib.axis.XTick at 0x27c3e12b0c8>,\n",
       "  <matplotlib.axis.XTick at 0x27c3e122b08>,\n",
       "  <matplotlib.axis.XTick at 0x27c3e12b888>,\n",
       "  <matplotlib.axis.XTick at 0x27c3e12f448>,\n",
       "  <matplotlib.axis.XTick at 0x27c3e1320c8>],\n",
       " <a list of 12 Text xticklabel objects>)"
      ]
     },
     "execution_count": 8,
     "metadata": {},
     "output_type": "execute_result"
    },
    {
     "data": {
      "image/png": "[encoded data removed]",
      "text/plain": [
       "<Figure size 432x288 with 1 Axes>"
      ]
     },
     "metadata": {
      "needs_background": "light"
     },
     "output_type": "display_data"
    }
   ],
   "source": [
    "from collections import Counter\n",
    "dicts = dict(Counter([i for i in norm_df['month'] if i != 'nan']))\n",
    "for i in range(1, 13):\n",
    "    if str(i) not in dicts.keys():\n",
    "        dicts[str(i)] = 0\n",
    "plt.bar(range(len(dicts)), list(dicts.values()), align='center')\n",
    "plt.xticks(range(len(dicts)), list(dicts.keys()))"
   ]
  },
  {
   "cell_type": "code",
   "execution_count": 8,
   "metadata": {},
   "outputs": [
    {
     "data": {
      "text/plain": [
       "<matplotlib.axes._subplots.AxesSubplot at 0x7f7affdfdb00>"
      ]
     },
     "execution_count": 8,
     "metadata": {},
     "output_type": "execute_result"
    },
    {
     "data": {
      "image/png": "[encoded data removed]",
      "text/plain": [
       "<Figure size 432x288 with 1 Axes>"
      ]
     },
     "metadata": {
      "needs_background": "light"
     },
     "output_type": "display_data"
    }
   ],
   "source": [
    "norm_df.groupby(\"venue\").agg({\"category\": [\"count\"]}).category['count'].plot.bar()"
   ]
  },
  {
   "cell_type": "code",
   "execution_count": 9,
   "metadata": {},
   "outputs": [
    {
     "data": {
      "text/plain": [
       "<matplotlib.legend.Legend at 0x7f7aff92bcc0>"
      ]
     },
     "execution_count": 9,
     "metadata": {},
     "output_type": "execute_result"
    },
    {
     "data": {
      "image/png": "[encoded data removed]",
      "text/plain": [
       "<Figure size 432x288 with 1 Axes>"
      ]
     },
     "metadata": {
      "needs_background": "light"
     },
     "output_type": "display_data"
    }
   ],
   "source": [
    "plt.hist(norm_df.groupby(\"venue\")['price'].apply(list)['Ho Chi Minh'], bins=50)\n",
    "plt.hist(norm_df.groupby(\"venue\")['price'].apply(list)['Ha Noi'], bins=50)\n",
    "plt.legend([\"Ho Chi Minh\", \"Ha Noi\"])"
   ]
  },
  {
   "cell_type": "code",
   "execution_count": 151,
   "metadata": {},
   "outputs": [
    {
     "ename": "NameError",
     "evalue": "name 'plt' is not defined",
     "output_type": "error",
     "traceback": [
      "\u001b[1;31m---------------------------------------------------------------------------\u001b[0m",
      "\u001b[1;31mNameError\u001b[0m                                 Traceback (most recent call last)",
      "\u001b[1;32m<ipython-input-151-17a455d94dc2>\u001b[0m in \u001b[0;36m<module>\u001b[1;34m\u001b[0m\n\u001b[1;32m----> 1\u001b[1;33m \u001b[0mplt\u001b[0m\u001b[1;33m.\u001b[0m\u001b[0mfigure\u001b[0m\u001b[1;33m(\u001b[0m\u001b[0mfigsize\u001b[0m\u001b[1;33m=\u001b[0m\u001b[1;33m(\u001b[0m\u001b[1;36m20\u001b[0m\u001b[1;33m,\u001b[0m\u001b[1;36m10\u001b[0m\u001b[1;33m)\u001b[0m\u001b[1;33m)\u001b[0m\u001b[1;33m\u001b[0m\u001b[1;33m\u001b[0m\u001b[0m\n\u001b[0m\u001b[0;32m      2\u001b[0m \u001b[1;33m\u001b[0m\u001b[0m\n\u001b[0;32m      3\u001b[0m \u001b[0mplt\u001b[0m\u001b[1;33m.\u001b[0m\u001b[0mxticks\u001b[0m\u001b[1;33m(\u001b[0m\u001b[0mnp\u001b[0m\u001b[1;33m.\u001b[0m\u001b[0mlinspace\u001b[0m\u001b[1;33m(\u001b[0m\u001b[1;36m0\u001b[0m\u001b[1;33m,\u001b[0m\u001b[1;36m1000000\u001b[0m\u001b[1;33m,\u001b[0m\u001b[1;36m20\u001b[0m\u001b[1;33m)\u001b[0m\u001b[1;33m)\u001b[0m\u001b[1;33m\u001b[0m\u001b[1;33m\u001b[0m\u001b[0m\n\u001b[0;32m      4\u001b[0m \u001b[1;32mfor\u001b[0m \u001b[0mi\u001b[0m \u001b[1;32min\u001b[0m \u001b[0mnorm_df\u001b[0m\u001b[1;33m.\u001b[0m\u001b[0mgroupby\u001b[0m\u001b[1;33m(\u001b[0m\u001b[1;34m\"category\"\u001b[0m\u001b[1;33m)\u001b[0m\u001b[1;33m[\u001b[0m\u001b[1;34m'price'\u001b[0m\u001b[1;33m]\u001b[0m\u001b[1;33m.\u001b[0m\u001b[0mapply\u001b[0m\u001b[1;33m(\u001b[0m\u001b[0mlist\u001b[0m\u001b[1;33m)\u001b[0m\u001b[1;33m:\u001b[0m\u001b[1;33m\u001b[0m\u001b[1;33m\u001b[0m\u001b[0m\n\u001b[0;32m      5\u001b[0m     \u001b[0mplt\u001b[0m\u001b[1;33m.\u001b[0m\u001b[0mhist\u001b[0m\u001b[1;33m(\u001b[0m\u001b[0mi\u001b[0m\u001b[1;33m,\u001b[0m \u001b[0mbins\u001b[0m\u001b[1;33m=\u001b[0m\u001b[1;36m50\u001b[0m\u001b[1;33m)\u001b[0m\u001b[1;33m\u001b[0m\u001b[1;33m\u001b[0m\u001b[0m\n",
      "\u001b[1;31mNameError\u001b[0m: name 'plt' is not defined"
     ]
    }
   ],
   "source": [
    "plt.figure(figsize=(20,10))\n",
    "\n",
    "plt.xticks(np.linspace(0,1000000,20))\n",
    "for i in norm_df.groupby(\"category\")['price'].apply(list):\n",
    "    plt.hist(i, bins=50)\n",
    "plt.legend(norm_df.groupby(\"category\")['price'].apply(list).keys())\n",
    "print(norm_df.groupby(\"category\").agg({\"price\": [\"count\"]}))"
   ]
  },
  {
   "cell_type": "code",
   "execution_count": 13,
   "metadata": {},
   "outputs": [
    {
     "data": {
      "image/png": "[encoded data removed]",
      "text/plain": [
       "<Figure size 432x288 with 1 Axes>"
      ]
     },
     "metadata": {
      "needs_background": "light"
     },
     "output_type": "display_data"
    }
   ],
   "source": [
    "for i, list_of_price in enumerate(norm_df.groupby(\"category\")['price'].apply(list)):\n",
    "    for p in list_of_price:\n",
    "        plt.scatter(p, norm_df.groupby(\"category\")['price'].apply(list).keys()[i])\n"
   ]
  },
  {
   "cell_type": "code",
   "execution_count": 26,
   "metadata": {},
   "outputs": [
    {
     "data": {
      "image/png": "[encoded data removed]",
      "text/plain": [
       "<Figure size 432x288 with 1 Axes>"
      ]
     },
     "metadata": {
      "needs_background": "light"
     },
     "output_type": "display_data"
    }
   ],
   "source": [
    "x , y = [], []\n",
    "venues = {\"Ho Chi Minh\": 0, \"Ha Noi\": 1}\n",
    "for ins in norm_df.groupby(\"category\"):\n",
    "    for i, p in enumerate(ins[1]['price']):\n",
    "        cat = ins[1]['category'].tolist()[i]\n",
    "        venue = ins[1]['venue'].tolist()[i]\n",
    "        plt.scatter(p, cat, c='red' if venue == 'Ho Chi Minh' else 'blue')\n",
    "        x.append([venues[venue], list(norm_df.groupby(\"category\")['price'].apply(list).keys()).index(cat)])\n",
    "        y.append(p)"
   ]
  },
  {
   "cell_type": "code",
   "execution_count": 225,
   "metadata": {},
   "outputs": [
    {
     "data": {
      "text/plain": [
       "08                                      Thứ 4       4\n",
       "07                                      Thứ 7       3\n",
       "04                                      Today       3\n",
       "05                                      Chủ nhật    3\n",
       "16                                      Thứ 5       2\n",
       "03                                      Thứ 6       2\n",
       "11                                      Thứ 7       2\n",
       "01                                      Thứ 4       2\n",
       "04                                      Thứ 7       2\n",
       "04                                      Thứ 4       2\n",
       "02                                      Thứ 5       2\n",
       "05                                      Thứ 4       1\n",
       "02                                      Thứ 2       1\n",
       "08                                      Chủ nhật    1\n",
       "09                                      Thứ 5       1\n",
       "01                                      Thứ 7       1\n",
       "18                                      Thứ 7       1\n",
       "15                                      Thứ 4       1\n",
       "21                                      Thứ 6       1\n",
       "04                                      Thứ 2       1\n",
       "10                                      Thứ 6       1\n",
       "29                                      Thứ 7       1\n",
       "Name: day, dtype: int64"
      ]
     },
     "execution_count": 225,
     "metadata": {},
     "output_type": "execute_result"
    }
   ],
   "source": [
    "# len(x), len(y)\n",
    "norm_df['day'].value_counts()"
   ]
  },
  {
   "cell_type": "code",
   "execution_count": 125,
   "metadata": {},
   "outputs": [
    {
     "data": {
      "text/plain": [
       "0"
      ]
     },
     "execution_count": 125,
     "metadata": {},
     "output_type": "execute_result"
    }
   ],
   "source": [
    "list(norm_df.groupby(\"category\")['price'].apply(list).keys()).index('Cộng đồng')"
   ]
  },
  {
   "cell_type": "code",
   "execution_count": 242,
   "metadata": {},
   "outputs": [
    {
     "name": "stdout",
     "output_type": "stream",
     "text": [
      "Quận 11, Thành Phố Hồ Chí Minh                                    48\n",
      "Quận 1, Thành Phố Hồ Chí Minh                                     39\n",
      "Quận 2, Thành Phố Hồ Chí Minh                                     25\n",
      "Quận 3, Thành Phố Hồ Chí Minh                                     12\n",
      "Quận Phú Nhuận, Thành Phố Hồ Chí Minh                              8\n",
      "Quận Hoàn Kiếm, Thành Phố Hà Nội                                   8\n",
      "Quận Bình Thạnh, Thành Phố Hồ Chí Minh                             8\n",
      "Quận Tân Bình, Thành Phố Hồ Chí Minh                               7\n",
      "Quận Ba Đình, Thành Phố Hà Nội                                     5\n",
      "Quận Nam Từ Liêm, Thành Phố Hà Nội                                 4\n",
      "Quận Tân Phú, Thành Phố Hồ Chí Minh                                4\n",
      "Quận 7, Thành Phố Hồ Chí Minh                                      4\n",
      "Quận 10, Thành Phố Hồ Chí Minh                                     4\n",
      "Quận 1, Hồ Chí Minh, Quận 1, Thành Phố Hồ Chí Minh                 3\n",
      "Quận Đống Đa, Thành Phố Hà Nội                                     3\n",
      "Quận Thủ Đức, Thành Phố Hồ Chí Minh                                3\n",
      "Quận Hai Bà Trưng, Thành Phố Hà Nội                                3\n",
      "Quận Gò Vấp, Thành Phố Hồ Chí Minh                                 3\n",
      "BAC\\n319 Ly Thuong Kiet Street, Quận 11, Thành Phố Hồ Chí Minh     2\n",
      "Quận 1, Hồ Chí Minh 700000, Quận 1, Thành Phố Hồ Chí Minh          1\n",
      "Quận Thanh Xuân, Thành Phố Hà Nội                                  1\n",
      "Quận 2, Hồ Chí Minh 713385, Quận 2, Thành Phố Hồ Chí Minh          1\n",
      "Quận Cầu Giấy, Thành Phố Hà Nội                                    1\n",
      "i                                                                  1\n",
      "Name: location, dtype: int64\n",
      "7.0    40\n",
      "8.0    30\n",
      "4.0    22\n",
      "6.0    20\n",
      "5.0    14\n",
      "2.0     8\n",
      "3.0     4\n",
      "Name: day, dtype: int64\n"
     ]
    },
    {
     "name": "stderr",
     "output_type": "stream",
     "text": [
      "c:\\users\\dell\\appdata\\local\\programs\\python\\python37\\lib\\site-packages\\ipykernel_launcher.py:14: SettingWithCopyWarning: \n",
      "A value is trying to be set on a copy of a slice from a DataFrame\n",
      "\n",
      "See the caveats in the documentation: http://pandas.pydata.org/pandas-docs/stable/user_guide/indexing.html#returning-a-view-versus-a-copy\n",
      "  \n"
     ]
    },
    {
     "data": {
      "text/plain": [
       "array([nan,  8.,  2.,  4.,  5.,  6.,  7.,  3.])"
      ]
     },
     "execution_count": 242,
     "metadata": {},
     "output_type": "execute_result"
    }
   ],
   "source": [
    "# Normalize data\n",
    "\n",
    "def return_tmp(x):\n",
    "    if type(x) != str:\n",
    "        return x\n",
    "    if x[-1].isnumeric():\n",
    "        return int(x[-1])\n",
    "    return 8\n",
    "\n",
    "norm_df['day'] = norm_df['day'].apply(lambda x: return_tmp(x))\n",
    "\n",
    "for i, loc in enumerate(norm_df['location']):\n",
    "    if not loc!=loc:\n",
    "        norm_df['location'][i] = loc[loc.find('Quận'): ]\n",
    "\n",
    "print(norm_df['location'].value_counts())\n",
    "print(norm_df['day'].value_counts())\n",
    "norm_df['day'].unique()"
   ]
  },
  {
   "cell_type": "code",
   "execution_count": 243,
   "metadata": {},
   "outputs": [],
   "source": [
    "# Split train dataset\n",
    "norm_df.head()\n",
    "temp = norm_df.copy()\n",
    "train_Y = norm_df['price']\n",
    "train_X = temp.drop(columns=['price'])"
   ]
  },
  {
   "cell_type": "code",
   "execution_count": 244,
   "metadata": {},
   "outputs": [],
   "source": [
    "class ColAdderDropper(BaseEstimator, TransformerMixin):\n",
    "    def __init__(self, num_top_cate=1):\n",
    "        self.num_top_cate = num_top_cate\n",
    "    def fit(self, X_df, y=None):\n",
    "# Category\n",
    "        category_col = X_df['category']\n",
    "        self.category_counts_ = category_col.value_counts()\n",
    "        category = list(self.category_counts_.index)\n",
    "        self.top_category_ = category[:max(1, min(self.num_top_cate, len(category)))]\n",
    "# Location\n",
    "#         location_col = X_df['location']\n",
    "#         self.location_counts_ = location_col.value_counts()\n",
    "#         location = list(self.location_counts_.index)\n",
    "#         self.top_location_ = location[:max(1, min(self.num_top_location, len(location)))]\n",
    "        \n",
    "        return self\n",
    "    \n",
    "    def transform(self, X_df, y=None):\n",
    "        # YOUR CODE HERE\n",
    "        temp = X_df.copy()\n",
    "# Category\n",
    "        temp.insert(7, 'type' ,temp['category'], True)\n",
    "        check = lambda x: x if x in self.top_category_ else 'Others'\n",
    "        temp[\"type\"] = temp[\"type\"].map(check)\n",
    "# Location \n",
    "#         temp.insert(9, 'loc', temp['location'], True)\n",
    "#         check = lambda x: x if x in self.top_location_ else 'Others'\n",
    "#         temp[\"loc\"] = temp[\"loc\"].map(check)\n",
    "        temp = temp.drop(columns=[\"title\", \"time\", \"location\", \"month\", \"category\"])\n",
    "        return temp\n"
   ]
  },
  {
   "cell_type": "code",
   "execution_count": 246,
   "metadata": {},
   "outputs": [
    {
     "name": "stdout",
     "output_type": "stream",
     "text": [
      "Hội thảo              79\n",
      "Nhạc sống             21\n",
      "Khóa học              15\n",
      "Văn hóa nghệ thuật    11\n",
      "Nightlife             10\n",
      "Thể thao              10\n",
      "Sân khấu               6\n",
      "Cộng đồng              3\n",
      "Vui chơi giải trí      2\n",
      "Hội chợ                2\n",
      "Hội họp                2\n",
      "Ngoài trời             1\n",
      "Name: category, dtype: int64\n",
      "\n",
      "['Hội thảo', 'Nhạc sống', 'Khóa học', 'Văn hóa nghệ thuật', 'Nightlife', 'Thể thao', 'Sân khấu']\n"
     ]
    }
   ],
   "source": [
    "# TEST FIT METHOD\n",
    "col_adderdropper = ColAdderDropper(num_top_cate=7)\n",
    "col_adderdropper.fit(norm_df)   \n",
    "\n",
    "print(col_adderdropper.category_counts_)\n",
    "print()\n",
    "print(col_adderdropper.top_category_)"
   ]
  },
  {
   "cell_type": "code",
   "execution_count": 247,
   "metadata": {},
   "outputs": [
    {
     "data": {
      "text/html": [
       "<div>\n",
       "<style scoped>\n",
       "    .dataframe tbody tr th:only-of-type {\n",
       "        vertical-align: middle;\n",
       "    }\n",
       "\n",
       "    .dataframe tbody tr th {\n",
       "        vertical-align: top;\n",
       "    }\n",
       "\n",
       "    .dataframe thead th {\n",
       "        text-align: right;\n",
       "    }\n",
       "</style>\n",
       "<table border=\"1\" class=\"dataframe\">\n",
       "  <thead>\n",
       "    <tr style=\"text-align: right;\">\n",
       "      <th></th>\n",
       "      <th>price</th>\n",
       "      <th>venue</th>\n",
       "      <th>day</th>\n",
       "      <th>type</th>\n",
       "    </tr>\n",
       "  </thead>\n",
       "  <tbody>\n",
       "    <tr>\n",
       "      <th>0</th>\n",
       "      <td>700000</td>\n",
       "      <td>Ho Chi Minh</td>\n",
       "      <td>NaN</td>\n",
       "      <td>Văn hóa nghệ thuật</td>\n",
       "    </tr>\n",
       "    <tr>\n",
       "      <th>1</th>\n",
       "      <td>0</td>\n",
       "      <td>Ho Chi Minh</td>\n",
       "      <td>NaN</td>\n",
       "      <td>Khóa học</td>\n",
       "    </tr>\n",
       "    <tr>\n",
       "      <th>2</th>\n",
       "      <td>2200</td>\n",
       "      <td>Ho Chi Minh</td>\n",
       "      <td>8.0</td>\n",
       "      <td>Hội thảo</td>\n",
       "    </tr>\n",
       "    <tr>\n",
       "      <th>3</th>\n",
       "      <td>2200</td>\n",
       "      <td>Ho Chi Minh</td>\n",
       "      <td>2.0</td>\n",
       "      <td>Khóa học</td>\n",
       "    </tr>\n",
       "    <tr>\n",
       "      <th>4</th>\n",
       "      <td>2200</td>\n",
       "      <td>Ho Chi Minh</td>\n",
       "      <td>NaN</td>\n",
       "      <td>Hội thảo</td>\n",
       "    </tr>\n",
       "  </tbody>\n",
       "</table>\n",
       "</div>"
      ],
      "text/plain": [
       "    price        venue  day                type\n",
       "0  700000  Ho Chi Minh  NaN  Văn hóa nghệ thuật\n",
       "1       0  Ho Chi Minh  NaN            Khóa học\n",
       "2    2200  Ho Chi Minh  8.0            Hội thảo\n",
       "3    2200  Ho Chi Minh  2.0            Khóa học\n",
       "4    2200  Ho Chi Minh  NaN            Hội thảo"
      ]
     },
     "execution_count": 247,
     "metadata": {},
     "output_type": "execute_result"
    }
   ],
   "source": [
    "fewer_cols_train_X_df = col_adderdropper.transform(norm_df)\n",
    "fewer_cols_train_X_df['type'].value_counts()\n",
    "fewer_cols_train_X_df['venue'].value_counts()\n",
    "fewer_cols_train_X_df.head()"
   ]
  },
  {
   "cell_type": "code",
   "execution_count": 248,
   "metadata": {},
   "outputs": [],
   "source": [
    "class MyLogisticRegression(linear_model.LogisticRegression):\n",
    "    def fit(self, X, y, *args, **kwargs):\n",
    "        _y = np.array([i if i == 0 else 1 for i in y])\n",
    "        super().fit(X, _y, *args, **kwargs)\n",
    "\n",
    "class MyLinearRegression(linear_model.LinearRegression):\n",
    "    def fit(self, X, y, *args, **kwargs):\n",
    "        indexs = np.ones(len(X), np.bool)\n",
    "        indexs[np.where(y==0)] = 0\n",
    "        super().fit(X[indexs], y[indexs], *args, **kwargs)\n"
   ]
  },
  {
   "cell_type": "code",
   "execution_count": 249,
   "metadata": {},
   "outputs": [
    {
     "data": {
      "text/plain": [
       "(162, 17)"
      ]
     },
     "execution_count": 249,
     "metadata": {},
     "output_type": "execute_result"
    }
   ],
   "source": [
    "cate_cols = ['venue', 'day', 'type']\n",
    "# num_cols = ['price']\n",
    "\n",
    "# preprocess = [('preprocess', ColAdderDropper(num_top_cate=6))]\n",
    "imp_mean = SimpleImputer(missing_values=np.nan, strategy='mean')\n",
    "imp_mode = SimpleImputer(missing_values=np.nan, strategy='most_frequent')\n",
    "enc = OneHotEncoder(handle_unknown=\"ignore\", sparse=False)\n",
    "cate_pipeline = Pipeline([('most', imp_mode), ('one-hot', enc)])\n",
    "ct = ColumnTransformer([(\"norm\", cate_pipeline, cate_cols)])\n",
    "\n",
    "scaler = StandardScaler()\n",
    "estimators = [('preprocess', ColAdderDropper(num_top_cate=7)), ('ct', ct), ('norm', scaler)]\n",
    "preprocess_pipeline = Pipeline(estimators)\n",
    "\n",
    "# LinearRG = linear_model.SGDRegressor(max_iter=1000, tol=1e-3)\n",
    "\n",
    "LinearRG = LinearRegression(fit_intercept=True,\n",
    "                            normalize=True,\n",
    "                            copy_X=True)\n",
    "# print(LinearRG.get_params())\n",
    "\n",
    "logistic_regression = MyLogisticRegression()\n",
    "linear_regression = MyLinearRegression()\n",
    "full_pipeline1 = Pipeline([('preprocess', preprocess_pipeline), ('LogisticRegression', logistic_regression)])\n",
    "full_pipeline2 = Pipeline([('preprocess', preprocess_pipeline), ('LinearRegression', linear_regression)])\n",
    "\n",
    "preprocessed_train_X = preprocess_pipeline.fit_transform(train_X)\n",
    "full_pipeline2.fit(train_X, train_Y)\n",
    "full_pipeline2.predict(train_X)\n",
    "preprocessed_train_X.shape"
   ]
  },
  {
   "cell_type": "code",
   "execution_count": 108,
   "metadata": {},
   "outputs": [
    {
     "data": {
      "text/plain": [
       "numpy.int64"
      ]
     },
     "execution_count": 108,
     "metadata": {},
     "output_type": "execute_result"
    }
   ],
   "source": [
    "type(norm_df['price'][0])"
   ]
  },
  {
   "cell_type": "code",
   "execution_count": null,
   "metadata": {},
   "outputs": [],
   "source": []
  }
 ],
 "metadata": {
  "kernelspec": {
   "display_name": "Python 3",
   "language": "python",
   "name": "python3"
  },
  "language_info": {
   "codemirror_mode": {
    "name": "ipython",
    "version": 3
   },
   "file_extension": ".py",
   "mimetype": "text/x-python",
   "name": "python",
   "nbconvert_exporter": "python",
   "pygments_lexer": "ipython3",
   "version": "3.7.5"
  }
 },
 "nbformat": 4,
 "nbformat_minor": 4
}
