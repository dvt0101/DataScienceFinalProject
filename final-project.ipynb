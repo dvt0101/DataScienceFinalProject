{
 "cells": [
  {
   "cell_type": "markdown",
   "metadata": {},
   "source": [
    "# Import"
   ]
  },
  {
   "cell_type": "code",
   "execution_count": 2,
   "metadata": {},
   "outputs": [],
   "source": [
    "from requests_html import HTMLSession\n",
    "import requests\n",
    "import json\n",
    "import time\n",
    "import pandas as pd\n",
    "import datetime as dt\n",
    "import re\n",
    "from bs4 import BeautifulSoup\n",
    "from dateutil.parser import parse\n",
    "from selenium import webdriver\n",
    "from selenium.webdriver.support.ui import WebDriverWait\n",
    "from selenium.webdriver.support import expected_conditions as EC\n",
    "from selenium.webdriver.common.by import By\n",
    "from selenium.common.exceptions import TimeoutException, JavascriptException\n",
    "from selenium.webdriver.common.action_chains import ActionChains"
   ]
  },
  {
   "cell_type": "code",
   "execution_count": null,
   "metadata": {},
   "outputs": [],
   "source": [
    "def crawl(nr_of_events=100, links=[\"https://ticketbox.vn/events/ho-chi-minh\", \"https://ticketbox.vn/events/ha-noi\"]):\n",
    "    data = []\n",
    "    for l in links:\n",
    "        driver = webdriver.Chrome(\"./chromedriver\")\n",
    "        driver.get(l)\n",
    "        while True:\n",
    "            try:\n",
    "                soup = BeautifulSoup(driver.page_source, \"html\")\n",
    "                cards = soup.findAll(\"div\", {\"class\": \"card\"})\n",
    "                if len(cards) >= nr_of_events:\n",
    "                    driver.close()\n",
    "                    break\n",
    "                button = driver.find_element_by_class_name(\"btn-loadmore\")\n",
    "                WebDriverWait(driver, 3).until(EC.invisibility_of_element_located((By.CLASS_NAME, \"loading-screen\")))\n",
    "                ActionChains(driver).move_to_element(button).click(button).perform()\n",
    "            except JavascriptException:\n",
    "                driver.close()\n",
    "                break\n",
    "        for card in cards:\n",
    "            title = card.findAll(\"div\", {\"class\": \"event-title\"})\n",
    "            title = title[0].text.strip() if title else ''\n",
    "            if title == '':\n",
    "                continue\n",
    "            link = card.findAll(\"a\", href=True)\n",
    "            if link:\n",
    "                r = HTMLSession().get(link[0]['href'])\n",
    "                tmp = BeautifulSoup(r.html.raw_html, \"html\")\n",
    "                try:\n",
    "                    time = tmp.findAll(\"div\", {\"class\": \"s1\"})[0].findAll(\"div\", {\"class\": \"ev-txt\"})\n",
    "                    time = time[0].text.strip() if time else ''\n",
    "                except:\n",
    "                    time = ''\n",
    "                try:\n",
    "                    location = tmp.findAll(\"div\", {\"class\": \"s2\"})[0].findAll(\"div\", {\"class\": \"ev-txt\"})\n",
    "                    location = location[0].text.strip() if location else ''\n",
    "                except:\n",
    "                    location = ''\n",
    "            else:\n",
    "                time = ''\n",
    "                location = ''\n",
    "            price = card.findAll(\"div\", {\"class\": \"event-price\"})\n",
    "            price = price[0].text.strip() if price else ''\n",
    "            venue = card.findAll(\"span\", {\"class\": \"tag-venue\"})\n",
    "            venue = venue[0].text.strip() if venue else ''\n",
    "            category = card.findAll(\"a\", {\"class\": \"tag-kind\"})\n",
    "            category = category[0].text.strip() if category else ''\n",
    "            month = card.findAll(\"span\", {\"class\": \"date-month\"}) if card.findAll(\"span\", {\"class\": \"date-month\"}) else card.findAll(\"div\", {\"class\": \"date-month\"})\n",
    "            month = month[0].text.strip() if month else ''\n",
    "            day = card.findAll(\"div\", {\"class\": \"date-detail\"})\n",
    "            day = ' '.join([i.text.replace('\\r', '').replace('\\n', '').replace('  ', ' ').strip() for i in day]) if day else ''\n",
    "\n",
    "            data.append([title, price, venue, category, month, day, time, location])\n",
    "    return pd.DataFrame(data, columns=[\"title\", \"price\", \"venue\", \"category\", \"month\", \"day\", \"time\", \"location\"])"
   ]
  },
  {
   "cell_type": "code",
   "execution_count": null,
   "metadata": {},
   "outputs": [],
   "source": [
    "df = crawl()\n",
    "df.to_csv(\"raw-{}.csv\".format(str(time.time())))\n",
    "df.head()"
   ]
  },
  {
   "cell_type": "code",
   "execution_count": 3,
   "metadata": {},
   "outputs": [
    {
     "data": {
      "text/html": [
       "<div>\n",
       "<style scoped>\n",
       "    .dataframe tbody tr th:only-of-type {\n",
       "        vertical-align: middle;\n",
       "    }\n",
       "\n",
       "    .dataframe tbody tr th {\n",
       "        vertical-align: top;\n",
       "    }\n",
       "\n",
       "    .dataframe thead th {\n",
       "        text-align: right;\n",
       "    }\n",
       "</style>\n",
       "<table border=\"1\" class=\"dataframe\">\n",
       "  <thead>\n",
       "    <tr style=\"text-align: right;\">\n",
       "      <th></th>\n",
       "      <th>title</th>\n",
       "      <th>price</th>\n",
       "      <th>venue</th>\n",
       "      <th>category</th>\n",
       "      <th>month</th>\n",
       "      <th>day</th>\n",
       "      <th>time</th>\n",
       "      <th>location</th>\n",
       "    </tr>\n",
       "  </thead>\n",
       "  <tbody>\n",
       "    <tr>\n",
       "      <td>0</td>\n",
       "      <td>A O Show</td>\n",
       "      <td>Từ 700.000 VND</td>\n",
       "      <td>Ho Chi Minh</td>\n",
       "      <td>Văn hóa nghệ thuật</td>\n",
       "      <td>Tháng 11</td>\n",
       "      <td>NaN</td>\n",
       "      <td>NaN</td>\n",
       "      <td>NaN</td>\n",
       "    </tr>\n",
       "    <tr>\n",
       "      <td>1</td>\n",
       "      <td>Vietnam Youth Basketball League</td>\n",
       "      <td>Miễn phí</td>\n",
       "      <td>Ho Chi Minh</td>\n",
       "      <td>Khóa học</td>\n",
       "      <td>NaN</td>\n",
       "      <td>NaN</td>\n",
       "      <td>Thứ 7, 26 Tháng 1 2019 - Thứ 7, 28 Tháng 12 20...</td>\n",
       "      <td>ISHCMC School\\n28 Vo Truong Toan St., An Phu, ...</td>\n",
       "    </tr>\n",
       "    <tr>\n",
       "      <td>2</td>\n",
       "      <td>Khóa Học Phong Cách Sống - Happy Mind. Happy L...</td>\n",
       "      <td>Từ 2.200.000 VND</td>\n",
       "      <td>Ho Chi Minh</td>\n",
       "      <td>Hội thảo</td>\n",
       "      <td>Tháng 12</td>\n",
       "      <td>01                                      Chủ nhật</td>\n",
       "      <td>Chủ nhật, 01 Tháng 12 2019 - Thứ 3, 31 Tháng 1...</td>\n",
       "      <td>Yoga Plus\\nLầu 3 Thảo Điền Pearl - 12 Quốc Hươ...</td>\n",
       "    </tr>\n",
       "    <tr>\n",
       "      <td>3</td>\n",
       "      <td>KHÓA HỌC KINH DOANH HORECA (Monthly Opening)</td>\n",
       "      <td>Từ 2.200.000 VND</td>\n",
       "      <td>Ho Chi Minh</td>\n",
       "      <td>Khóa học</td>\n",
       "      <td>Tháng 12</td>\n",
       "      <td>02                                      Thứ 2</td>\n",
       "      <td>Thứ 2, 02 Tháng 12 2019 - Thứ 3, 03 Tháng 12 2...</td>\n",
       "      <td>VINHOMES GOLDEN RIVER - THE LUXURY 6 (LUX 6)\\n...</td>\n",
       "    </tr>\n",
       "    <tr>\n",
       "      <td>4</td>\n",
       "      <td>KHÓA HỌC TIẾP THỊ: CHIẾN LƯỢC TRUYỀN THÔNG (Mo...</td>\n",
       "      <td>Từ 2.200.000 VND</td>\n",
       "      <td>Ho Chi Minh</td>\n",
       "      <td>Hội thảo</td>\n",
       "      <td>Tháng 12</td>\n",
       "      <td>NaN</td>\n",
       "      <td>Thứ 2, 09 Tháng 12 2019 - Thứ 3, 10 Tháng 12 2...</td>\n",
       "      <td>VINHOMES GOLDEN RIVER - THE LUXURY 6 ( LUX6 )\\...</td>\n",
       "    </tr>\n",
       "  </tbody>\n",
       "</table>\n",
       "</div>"
      ],
      "text/plain": [
       "                                               title             price  \\\n",
       "0                                           A O Show    Từ 700.000 VND   \n",
       "1                    Vietnam Youth Basketball League          Miễn phí   \n",
       "2  Khóa Học Phong Cách Sống - Happy Mind. Happy L...  Từ 2.200.000 VND   \n",
       "3       KHÓA HỌC KINH DOANH HORECA (Monthly Opening)  Từ 2.200.000 VND   \n",
       "4  KHÓA HỌC TIẾP THỊ: CHIẾN LƯỢC TRUYỀN THÔNG (Mo...  Từ 2.200.000 VND   \n",
       "\n",
       "         venue            category     month  \\\n",
       "0  Ho Chi Minh  Văn hóa nghệ thuật  Tháng 11   \n",
       "1  Ho Chi Minh            Khóa học       NaN   \n",
       "2  Ho Chi Minh            Hội thảo  Tháng 12   \n",
       "3  Ho Chi Minh            Khóa học  Tháng 12   \n",
       "4  Ho Chi Minh            Hội thảo  Tháng 12   \n",
       "\n",
       "                                                day  \\\n",
       "0                                               NaN   \n",
       "1                                               NaN   \n",
       "2  01                                      Chủ nhật   \n",
       "3     02                                      Thứ 2   \n",
       "4                                               NaN   \n",
       "\n",
       "                                                time  \\\n",
       "0                                                NaN   \n",
       "1  Thứ 7, 26 Tháng 1 2019 - Thứ 7, 28 Tháng 12 20...   \n",
       "2  Chủ nhật, 01 Tháng 12 2019 - Thứ 3, 31 Tháng 1...   \n",
       "3  Thứ 2, 02 Tháng 12 2019 - Thứ 3, 03 Tháng 12 2...   \n",
       "4  Thứ 2, 09 Tháng 12 2019 - Thứ 3, 10 Tháng 12 2...   \n",
       "\n",
       "                                            location  \n",
       "0                                                NaN  \n",
       "1  ISHCMC School\\n28 Vo Truong Toan St., An Phu, ...  \n",
       "2  Yoga Plus\\nLầu 3 Thảo Điền Pearl - 12 Quốc Hươ...  \n",
       "3  VINHOMES GOLDEN RIVER - THE LUXURY 6 (LUX 6)\\n...  \n",
       "4  VINHOMES GOLDEN RIVER - THE LUXURY 6 ( LUX6 )\\...  "
      ]
     },
     "execution_count": 3,
     "metadata": {},
     "output_type": "execute_result"
    }
   ],
   "source": [
    "df = pd.read_csv(\"raw-1573728872.5245068.csv\", index_col=0)\n",
    "df.head()"
   ]
  },
  {
   "cell_type": "markdown",
   "metadata": {},
   "source": [
    "# Norm data"
   ]
  },
  {
   "cell_type": "code",
   "execution_count": 4,
   "metadata": {},
   "outputs": [
    {
     "data": {
      "text/html": [
       "<div>\n",
       "<style scoped>\n",
       "    .dataframe tbody tr th:only-of-type {\n",
       "        vertical-align: middle;\n",
       "    }\n",
       "\n",
       "    .dataframe tbody tr th {\n",
       "        vertical-align: top;\n",
       "    }\n",
       "\n",
       "    .dataframe thead th {\n",
       "        text-align: right;\n",
       "    }\n",
       "</style>\n",
       "<table border=\"1\" class=\"dataframe\">\n",
       "  <thead>\n",
       "    <tr style=\"text-align: right;\">\n",
       "      <th></th>\n",
       "      <th>title</th>\n",
       "      <th>price</th>\n",
       "      <th>venue</th>\n",
       "      <th>category</th>\n",
       "      <th>month</th>\n",
       "      <th>day</th>\n",
       "      <th>time</th>\n",
       "      <th>location</th>\n",
       "    </tr>\n",
       "  </thead>\n",
       "  <tbody>\n",
       "    <tr>\n",
       "      <td>0</td>\n",
       "      <td>A O Show</td>\n",
       "      <td>700000</td>\n",
       "      <td>Ho Chi Minh</td>\n",
       "      <td>Văn hóa nghệ thuật</td>\n",
       "      <td>11</td>\n",
       "      <td>NaN</td>\n",
       "      <td>NaN</td>\n",
       "      <td>NaN</td>\n",
       "    </tr>\n",
       "    <tr>\n",
       "      <td>1</td>\n",
       "      <td>Vietnam Youth Basketball League</td>\n",
       "      <td>0</td>\n",
       "      <td>Ho Chi Minh</td>\n",
       "      <td>Khóa học</td>\n",
       "      <td>nan</td>\n",
       "      <td>NaN</td>\n",
       "      <td>Thứ 7, 26 Tháng 1 2019 - Thứ 7, 28 Tháng 12 20...</td>\n",
       "      <td>ISHCMC School\\n28 Vo Truong Toan St., An Phu, ...</td>\n",
       "    </tr>\n",
       "    <tr>\n",
       "      <td>2</td>\n",
       "      <td>Khóa Học Phong Cách Sống - Happy Mind. Happy L...</td>\n",
       "      <td>2200</td>\n",
       "      <td>Ho Chi Minh</td>\n",
       "      <td>Hội thảo</td>\n",
       "      <td>12</td>\n",
       "      <td>01                                      Chủ nhật</td>\n",
       "      <td>Chủ nhật, 01 Tháng 12 2019 - Thứ 3, 31 Tháng 1...</td>\n",
       "      <td>Yoga Plus\\nLầu 3 Thảo Điền Pearl - 12 Quốc Hươ...</td>\n",
       "    </tr>\n",
       "    <tr>\n",
       "      <td>3</td>\n",
       "      <td>KHÓA HỌC KINH DOANH HORECA (Monthly Opening)</td>\n",
       "      <td>2200</td>\n",
       "      <td>Ho Chi Minh</td>\n",
       "      <td>Khóa học</td>\n",
       "      <td>12</td>\n",
       "      <td>02                                      Thứ 2</td>\n",
       "      <td>Thứ 2, 02 Tháng 12 2019 - Thứ 3, 03 Tháng 12 2...</td>\n",
       "      <td>VINHOMES GOLDEN RIVER - THE LUXURY 6 (LUX 6)\\n...</td>\n",
       "    </tr>\n",
       "    <tr>\n",
       "      <td>4</td>\n",
       "      <td>KHÓA HỌC TIẾP THỊ: CHIẾN LƯỢC TRUYỀN THÔNG (Mo...</td>\n",
       "      <td>2200</td>\n",
       "      <td>Ho Chi Minh</td>\n",
       "      <td>Hội thảo</td>\n",
       "      <td>12</td>\n",
       "      <td>NaN</td>\n",
       "      <td>Thứ 2, 09 Tháng 12 2019 - Thứ 3, 10 Tháng 12 2...</td>\n",
       "      <td>VINHOMES GOLDEN RIVER - THE LUXURY 6 ( LUX6 )\\...</td>\n",
       "    </tr>\n",
       "    <tr>\n",
       "      <td>...</td>\n",
       "      <td>...</td>\n",
       "      <td>...</td>\n",
       "      <td>...</td>\n",
       "      <td>...</td>\n",
       "      <td>...</td>\n",
       "      <td>...</td>\n",
       "      <td>...</td>\n",
       "      <td>...</td>\n",
       "    </tr>\n",
       "    <tr>\n",
       "      <td>111</td>\n",
       "      <td>KEY TO SUCCESS</td>\n",
       "      <td>0</td>\n",
       "      <td>Ha Noi</td>\n",
       "      <td>Hội thảo</td>\n",
       "      <td>11</td>\n",
       "      <td>22                                      Thứ 6</td>\n",
       "      <td>06:00 PM - 09:00 PM</td>\n",
       "      <td>Hội trường A - ĐẠI HỌC KINH TẾ QUỐC DÂN\\n207 G...</td>\n",
       "    </tr>\n",
       "    <tr>\n",
       "      <td>112</td>\n",
       "      <td>IELTS Speaking Workshop</td>\n",
       "      <td>0</td>\n",
       "      <td>Ha Noi</td>\n",
       "      <td>Hội thảo</td>\n",
       "      <td>11</td>\n",
       "      <td>23                                      Thứ 7</td>\n",
       "      <td>02:00 PM - 05:00 PM</td>\n",
       "      <td>GLN English Center\\nTầng 12, Tòa nhà Handico P...</td>\n",
       "    </tr>\n",
       "    <tr>\n",
       "      <td>113</td>\n",
       "      <td>Hội thảo Chọn Trường Quốc tế hay Chương trình ...</td>\n",
       "      <td>0</td>\n",
       "      <td>Ha Noi</td>\n",
       "      <td>Hội thảo</td>\n",
       "      <td>12</td>\n",
       "      <td>15                                      Chủ nhật</td>\n",
       "      <td>09:00 AM - 10:30 AM</td>\n",
       "      <td>PAC Group\\nP311, The Golden Palm 21 Lê Văn Lươ...</td>\n",
       "    </tr>\n",
       "    <tr>\n",
       "      <td>114</td>\n",
       "      <td>Triển lãm thiết bị nghe nhìn lần thứ 17 - AVSh...</td>\n",
       "      <td>0</td>\n",
       "      <td>Ha Noi</td>\n",
       "      <td>Vui chơi giải trí</td>\n",
       "      <td>11</td>\n",
       "      <td>23                                      Thứ 7</td>\n",
       "      <td>Thứ 7, 23 Tháng 11 2019 - Thứ 2, 25 Tháng 11 2...</td>\n",
       "      <td>Trung Tâm Hội Nghị Quốc Gia Việt Nam\\nCổng số ...</td>\n",
       "    </tr>\n",
       "    <tr>\n",
       "      <td>115</td>\n",
       "      <td>Khóa học SEARCH INSIDE YOURSELF TRỰC TUYẾN ĐẦU...</td>\n",
       "      <td>99000</td>\n",
       "      <td>Ha Noi</td>\n",
       "      <td>Khóa học</td>\n",
       "      <td>11</td>\n",
       "      <td>20                                      Thứ 4</td>\n",
       "      <td>08:30 AM - 05:30 PM</td>\n",
       "      <td>Agilead\\n68 nguyễn cơ thạch, Quận Nam Từ Liêm,...</td>\n",
       "    </tr>\n",
       "  </tbody>\n",
       "</table>\n",
       "<p>116 rows × 8 columns</p>\n",
       "</div>"
      ],
      "text/plain": [
       "                                                 title   price        venue  \\\n",
       "0                                             A O Show  700000  Ho Chi Minh   \n",
       "1                      Vietnam Youth Basketball League       0  Ho Chi Minh   \n",
       "2    Khóa Học Phong Cách Sống - Happy Mind. Happy L...    2200  Ho Chi Minh   \n",
       "3         KHÓA HỌC KINH DOANH HORECA (Monthly Opening)    2200  Ho Chi Minh   \n",
       "4    KHÓA HỌC TIẾP THỊ: CHIẾN LƯỢC TRUYỀN THÔNG (Mo...    2200  Ho Chi Minh   \n",
       "..                                                 ...     ...          ...   \n",
       "111                                     KEY TO SUCCESS       0       Ha Noi   \n",
       "112                            IELTS Speaking Workshop       0       Ha Noi   \n",
       "113  Hội thảo Chọn Trường Quốc tế hay Chương trình ...       0       Ha Noi   \n",
       "114  Triển lãm thiết bị nghe nhìn lần thứ 17 - AVSh...       0       Ha Noi   \n",
       "115  Khóa học SEARCH INSIDE YOURSELF TRỰC TUYẾN ĐẦU...   99000       Ha Noi   \n",
       "\n",
       "               category month  \\\n",
       "0    Văn hóa nghệ thuật    11   \n",
       "1              Khóa học   nan   \n",
       "2              Hội thảo    12   \n",
       "3              Khóa học    12   \n",
       "4              Hội thảo    12   \n",
       "..                  ...   ...   \n",
       "111            Hội thảo    11   \n",
       "112            Hội thảo    11   \n",
       "113            Hội thảo    12   \n",
       "114   Vui chơi giải trí    11   \n",
       "115            Khóa học    11   \n",
       "\n",
       "                                                  day  \\\n",
       "0                                                 NaN   \n",
       "1                                                 NaN   \n",
       "2    01                                      Chủ nhật   \n",
       "3       02                                      Thứ 2   \n",
       "4                                                 NaN   \n",
       "..                                                ...   \n",
       "111     22                                      Thứ 6   \n",
       "112     23                                      Thứ 7   \n",
       "113  15                                      Chủ nhật   \n",
       "114     23                                      Thứ 7   \n",
       "115     20                                      Thứ 4   \n",
       "\n",
       "                                                  time  \\\n",
       "0                                                  NaN   \n",
       "1    Thứ 7, 26 Tháng 1 2019 - Thứ 7, 28 Tháng 12 20...   \n",
       "2    Chủ nhật, 01 Tháng 12 2019 - Thứ 3, 31 Tháng 1...   \n",
       "3    Thứ 2, 02 Tháng 12 2019 - Thứ 3, 03 Tháng 12 2...   \n",
       "4    Thứ 2, 09 Tháng 12 2019 - Thứ 3, 10 Tháng 12 2...   \n",
       "..                                                 ...   \n",
       "111                                06:00 PM - 09:00 PM   \n",
       "112                                02:00 PM - 05:00 PM   \n",
       "113                                09:00 AM - 10:30 AM   \n",
       "114  Thứ 7, 23 Tháng 11 2019 - Thứ 2, 25 Tháng 11 2...   \n",
       "115                                08:30 AM - 05:30 PM   \n",
       "\n",
       "                                              location  \n",
       "0                                                  NaN  \n",
       "1    ISHCMC School\\n28 Vo Truong Toan St., An Phu, ...  \n",
       "2    Yoga Plus\\nLầu 3 Thảo Điền Pearl - 12 Quốc Hươ...  \n",
       "3    VINHOMES GOLDEN RIVER - THE LUXURY 6 (LUX 6)\\n...  \n",
       "4    VINHOMES GOLDEN RIVER - THE LUXURY 6 ( LUX6 )\\...  \n",
       "..                                                 ...  \n",
       "111  Hội trường A - ĐẠI HỌC KINH TẾ QUỐC DÂN\\n207 G...  \n",
       "112  GLN English Center\\nTầng 12, Tòa nhà Handico P...  \n",
       "113  PAC Group\\nP311, The Golden Palm 21 Lê Văn Lươ...  \n",
       "114  Trung Tâm Hội Nghị Quốc Gia Việt Nam\\nCổng số ...  \n",
       "115  Agilead\\n68 nguyễn cơ thạch, Quận Nam Từ Liêm,...  \n",
       "\n",
       "[116 rows x 8 columns]"
      ]
     },
     "execution_count": 4,
     "metadata": {},
     "output_type": "execute_result"
    }
   ],
   "source": [
    "import numpy as np\n",
    "import re\n",
    "\n",
    "norm_df = df.copy()\n",
    "\n",
    "norm_df = norm_df.replace(\"Hà Nội\", \"Ha Noi\")\n",
    "norm_df = norm_df.replace(\"Hồ Chí Minh\", \"Ho Chi Minh\")\n",
    "\n",
    "norm_df['month'] = [re.findall(r\"(\\d+)\", str(i))[0] if re.findall(r\"(\\d+)\", str(i)) else str(i) for i in norm_df['month']]\n",
    "norm_df['price'] = [int(re.findall(r\"(\\d+.\\d+)\", str(i))[0].replace(\".\", \"\")) if re.findall(r\"(\\d+.\\d+)\", str(i)) else 0 for i in norm_df['price']]\n",
    "\n",
    "norm_df"
   ]
  },
  {
   "cell_type": "markdown",
   "metadata": {},
   "source": [
    "# Missing data Percentage"
   ]
  },
  {
   "cell_type": "code",
   "execution_count": 5,
   "metadata": {},
   "outputs": [
    {
     "data": {
      "text/plain": [
       "title       0.000000\n",
       "price       0.000000\n",
       "venue       0.000000\n",
       "category    0.000000\n",
       "month       0.000000\n",
       "day         0.137931\n",
       "time        0.068966\n",
       "location    0.068966\n",
       "dtype: float64"
      ]
     },
     "execution_count": 5,
     "metadata": {},
     "output_type": "execute_result"
    }
   ],
   "source": [
    "norm_df.isnull().sum()/norm_df.shape[0]"
   ]
  },
  {
   "cell_type": "code",
   "execution_count": 6,
   "metadata": {},
   "outputs": [
    {
     "data": {
      "text/plain": [
       "[<matplotlib.lines.Line2D at 0x7f7b0013dcf8>]"
      ]
     },
     "execution_count": 6,
     "metadata": {},
     "output_type": "execute_result"
    }
   ],
   "source": [
    "from matplotlib import pyplot as plt\n",
    "plt.figure(figsize=(20,3))\n",
    "plt.plot(norm_df.groupby(\"category\").agg({\"category\": [\"count\"]}))"
   ]
  },
  {
   "cell_type": "code",
   "execution_count": 7,
   "metadata": {},
   "outputs": [
    {
     "data": {
      "text/plain": [
       "([<matplotlib.axis.XTick at 0x7f7affe7a6a0>,\n",
       "  <matplotlib.axis.XTick at 0x7f7affe6dfd0>,\n",
       "  <matplotlib.axis.XTick at 0x7f7affe6dcc0>,\n",
       "  <matplotlib.axis.XTick at 0x7f7affe34be0>,\n",
       "  <matplotlib.axis.XTick at 0x7f7affe45160>,\n",
       "  <matplotlib.axis.XTick at 0x7f7affe455f8>,\n",
       "  <matplotlib.axis.XTick at 0x7f7affe45b70>,\n",
       "  <matplotlib.axis.XTick at 0x7f7affe4b160>,\n",
       "  <matplotlib.axis.XTick at 0x7f7affe4b6a0>,\n",
       "  <matplotlib.axis.XTick at 0x7f7affe4bc18>,\n",
       "  <matplotlib.axis.XTick at 0x7f7affe531d0>,\n",
       "  <matplotlib.axis.XTick at 0x7f7affe4bcc0>],\n",
       " <a list of 12 Text xticklabel objects>)"
      ]
     },
     "execution_count": 7,
     "metadata": {},
     "output_type": "execute_result"
    },
    {
     "data": {
      "image/png": "[encoded data removed]",
      "text/plain": [
       "<Figure size 432x288 with 1 Axes>"
      ]
     },
     "metadata": {
      "needs_background": "light"
     },
     "output_type": "display_data"
    }
   ],
   "source": [
    "from collections import Counter\n",
    "dicts = dict(Counter([i for i in norm_df['month'] if i != 'nan']))\n",
    "for i in range(1, 13):\n",
    "    if str(i) not in dicts.keys():\n",
    "        dicts[str(i)] = 0\n",
    "plt.bar(range(len(dicts)), list(dicts.values()), align='center')\n",
    "plt.xticks(range(len(dicts)), list(dicts.keys()))"
   ]
  },
  {
   "cell_type": "code",
   "execution_count": 8,
   "metadata": {},
   "outputs": [
    {
     "data": {
      "text/plain": [
       "<matplotlib.axes._subplots.AxesSubplot at 0x7f7affdfdb00>"
      ]
     },
     "execution_count": 8,
     "metadata": {},
     "output_type": "execute_result"
    },
    {
     "data": {
      "image/png": "[encoded data removed]",
      "text/plain": [
       "<Figure size 432x288 with 1 Axes>"
      ]
     },
     "metadata": {
      "needs_background": "light"
     },
     "output_type": "display_data"
    }
   ],
   "source": [
    "norm_df.groupby(\"venue\").agg({\"category\": [\"count\"]}).category['count'].plot.bar()"
   ]
  },
  {
   "cell_type": "code",
   "execution_count": 9,
   "metadata": {},
   "outputs": [
    {
     "data": {
      "text/plain": [
       "<matplotlib.legend.Legend at 0x7f7aff92bcc0>"
      ]
     },
     "execution_count": 9,
     "metadata": {},
     "output_type": "execute_result"
    },
    {
     "data": {
      "image/png": "[encoded data removed]",
      "text/plain": [
       "<Figure size 432x288 with 1 Axes>"
      ]
     },
     "metadata": {
      "needs_background": "light"
     },
     "output_type": "display_data"
    }
   ],
   "source": [
    "plt.hist(norm_df.groupby(\"venue\")['price'].apply(list)['Ho Chi Minh'], bins=50)\n",
    "plt.hist(norm_df.groupby(\"venue\")['price'].apply(list)['Ha Noi'], bins=50)\n",
    "plt.legend([\"Ho Chi Minh\", \"Ha Noi\"])"
   ]
  },
  {
   "cell_type": "code",
   "execution_count": 10,
   "metadata": {},
   "outputs": [
    {
     "name": "stdout",
     "output_type": "stream",
     "text": [
      "                   price\n",
      "                   count\n",
      "category                \n",
      "Cộng đồng              1\n",
      "Hội chợ                2\n",
      "Hội họp                2\n",
      "Hội thảo              54\n",
      "Khóa học              14\n",
      "Ngoài trời             1\n",
      "Nhạc sống             14\n",
      "Nightlife              8\n",
      "Sân khấu               2\n",
      "Thể thao               8\n",
      "Vui chơi giải trí      1\n",
      "Văn hóa nghệ thuật     9\n"
     ]
    },
    {
     "data": {
      "image/png": "[encoded data removed]",
      "text/plain": [
       "<Figure size 1440x720 with 1 Axes>"
      ]
     },
     "metadata": {
      "needs_background": "light"
     },
     "output_type": "display_data"
    }
   ],
   "source": [
    "plt.figure(figsize=(20,10))\n",
    "\n",
    "plt.xticks(np.linspace(0,1000000,20))\n",
    "for i in norm_df.groupby(\"category\")['price'].apply(list):\n",
    "    plt.hist(i, bins=50)\n",
    "plt.legend(norm_df.groupby(\"category\")['price'].apply(list).keys())\n",
    "print(norm_df.groupby(\"category\").agg({\"price\": [\"count\"]}))"
   ]
  },
  {
   "cell_type": "code",
   "execution_count": 13,
   "metadata": {},
   "outputs": [
    {
     "data": {
      "image/png": "[encoded data removed]",
      "text/plain": [
       "<Figure size 432x288 with 1 Axes>"
      ]
     },
     "metadata": {
      "needs_background": "light"
     },
     "output_type": "display_data"
    }
   ],
   "source": [
    "for i, list_of_price in enumerate(norm_df.groupby(\"category\")['price'].apply(list)):\n",
    "    for p in list_of_price:\n",
    "        plt.scatter(p, norm_df.groupby(\"category\")['price'].apply(list).keys()[i])\n"
   ]
  },
  {
   "cell_type": "code",
   "execution_count": 26,
   "metadata": {},
   "outputs": [
    {
     "data": {
      "image/png": "[encoded data removed]",
      "text/plain": [
       "<Figure size 432x288 with 1 Axes>"
      ]
     },
     "metadata": {
      "needs_background": "light"
     },
     "output_type": "display_data"
    }
   ],
   "source": [
    "x , y = [], []\n",
    "venues = {\"Ho Chi Minh\": 0, \"Ha Noi\": 1}\n",
    "for ins in norm_df.groupby(\"category\"):\n",
    "    for i, p in enumerate(ins[1]['price']):\n",
    "        cat = ins[1]['category'].tolist()[i]\n",
    "        venue = ins[1]['venue'].tolist()[i]\n",
    "        plt.scatter(p, cat, c='red' if venue == 'Ho Chi Minh' else 'blue')\n",
    "        x.append([venues[venue], list(norm_df.groupby(\"category\")['price'].apply(list).keys()).index(cat)])\n",
    "        y.append(p)"
   ]
  },
  {
   "cell_type": "code",
   "execution_count": 19,
   "metadata": {},
   "outputs": [
    {
     "data": {
      "text/plain": [
       "(116, 116)"
      ]
     },
     "execution_count": 19,
     "metadata": {},
     "output_type": "execute_result"
    }
   ],
   "source": [
    "len(x), len(y)"
   ]
  },
  {
   "cell_type": "code",
   "execution_count": 27,
   "metadata": {},
   "outputs": [
    {
     "data": {
      "text/plain": [
       "[[0, 0],\n",
       " [0, 1],\n",
       " [0, 1],\n",
       " [0, 2],\n",
       " [0, 2],\n",
       " [0, 3],\n",
       " [0, 3],\n",
       " [0, 3],\n",
       " [0, 3],\n",
       " [0, 3],\n",
       " [0, 3],\n",
       " [0, 3],\n",
       " [0, 3],\n",
       " [0, 3],\n",
       " [0, 3],\n",
       " [0, 3],\n",
       " [0, 3],\n",
       " [0, 3],\n",
       " [0, 3],\n",
       " [0, 3],\n",
       " [0, 3],\n",
       " [0, 3],\n",
       " [0, 3],\n",
       " [0, 3],\n",
       " [0, 3],\n",
       " [0, 3],\n",
       " [0, 3],\n",
       " [0, 3],\n",
       " [0, 3],\n",
       " [0, 3],\n",
       " [0, 3],\n",
       " [0, 3],\n",
       " [0, 3],\n",
       " [0, 3],\n",
       " [0, 3],\n",
       " [0, 3],\n",
       " [0, 3],\n",
       " [0, 3],\n",
       " [0, 3],\n",
       " [0, 3],\n",
       " [0, 3],\n",
       " [0, 3],\n",
       " [0, 3],\n",
       " [0, 3],\n",
       " [0, 3],\n",
       " [0, 3],\n",
       " [0, 3],\n",
       " [1, 3],\n",
       " [1, 3],\n",
       " [1, 3],\n",
       " [1, 3],\n",
       " [1, 3],\n",
       " [1, 3],\n",
       " [1, 3],\n",
       " [1, 3],\n",
       " [1, 3],\n",
       " [1, 3],\n",
       " [1, 3],\n",
       " [1, 3],\n",
       " [0, 4],\n",
       " [0, 4],\n",
       " [0, 4],\n",
       " [0, 4],\n",
       " [0, 4],\n",
       " [0, 4],\n",
       " [0, 4],\n",
       " [0, 4],\n",
       " [0, 4],\n",
       " [0, 4],\n",
       " [0, 4],\n",
       " [0, 4],\n",
       " [0, 4],\n",
       " [1, 4],\n",
       " [0, 5],\n",
       " [0, 6],\n",
       " [0, 6],\n",
       " [0, 6],\n",
       " [0, 6],\n",
       " [0, 6],\n",
       " [0, 6],\n",
       " [0, 6],\n",
       " [0, 6],\n",
       " [0, 6],\n",
       " [1, 6],\n",
       " [1, 6],\n",
       " [1, 6],\n",
       " [1, 6],\n",
       " [1, 6],\n",
       " [0, 7],\n",
       " [0, 7],\n",
       " [0, 7],\n",
       " [0, 7],\n",
       " [0, 7],\n",
       " [0, 7],\n",
       " [1, 7],\n",
       " [1, 7],\n",
       " [0, 8],\n",
       " [0, 8],\n",
       " [0, 9],\n",
       " [0, 9],\n",
       " [0, 9],\n",
       " [0, 9],\n",
       " [1, 9],\n",
       " [1, 9],\n",
       " [1, 9],\n",
       " [1, 9],\n",
       " [1, 10],\n",
       " [0, 11],\n",
       " [0, 11],\n",
       " [0, 11],\n",
       " [0, 11],\n",
       " [0, 11],\n",
       " [0, 11],\n",
       " [1, 11],\n",
       " [1, 11],\n",
       " [1, 11]]"
      ]
     },
     "execution_count": 27,
     "metadata": {},
     "output_type": "execute_result"
    }
   ],
   "source": [
    "x"
   ]
  },
  {
   "cell_type": "code",
   "execution_count": 138,
   "metadata": {},
   "outputs": [
    {
     "data": {
      "text/plain": [
       "0"
      ]
     },
     "execution_count": 138,
     "metadata": {},
     "output_type": "execute_result"
    }
   ],
   "source": [
    "list(norm_df.groupby(\"category\")['price'].apply(list).keys()).index('Cộng đồng')"
   ]
  },
  {
   "cell_type": "code",
   "execution_count": null,
   "metadata": {},
   "outputs": [],
   "source": []
  }
 ],
 "metadata": {
  "kernelspec": {
   "display_name": "Python 3",
   "language": "python",
   "name": "python3"
  },
  "language_info": {
   "codemirror_mode": {
    "name": "ipython",
    "version": 3
   },
   "file_extension": ".py",
   "mimetype": "text/x-python",
   "name": "python",
   "nbconvert_exporter": "python",
   "pygments_lexer": "ipython3",
   "version": "3.6.9"
  }
 },
 "nbformat": 4,
 "nbformat_minor": 4
}
